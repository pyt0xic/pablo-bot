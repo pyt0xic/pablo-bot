{
 "cells": [
  {
   "cell_type": "code",
   "execution_count": 1,
   "source": [
    "import pandas as pd"
   ],
   "outputs": [],
   "metadata": {}
  }
 ],
 "metadata": {
  "orig_nbformat": 4,
  "language_info": {
   "name": "python",
   "version": "3.8.11",
   "mimetype": "text/x-python",
   "codemirror_mode": {
    "name": "ipython",
    "version": 3
   },
   "pygments_lexer": "ipython3",
   "nbconvert_exporter": "python",
   "file_extension": ".py"
  },
  "kernelspec": {
   "name": "python3",
   "display_name": "Python 3.9.7 64-bit ('pablo-bot': conda)"
  },
  "interpreter": {
   "hash": "9b8925f46c4eb81faf51dd413b2890c72e106e6d9cdc933e302e3dbb556b2244"
  }
 },
 "nbformat": 4,
 "nbformat_minor": 2
}